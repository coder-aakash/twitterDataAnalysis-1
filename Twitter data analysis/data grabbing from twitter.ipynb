{
 "cells": [
  {
   "cell_type": "markdown",
   "metadata": {
    "collapsed": true
   },
   "source": [
    "# GETTING DATA FROM TWITTER\n",
    "_________________________________________________________\n",
    "## HAVE FUN\n",
    "![twitter data](https://www.analyticsvidhya.com/blog/wp-content/uploads/2014/11/Mining_Twitter_Data.jpg)\n",
    "### **some important Links**\n",
    "**********************************\n",
    "**********************************\n",
    "> **items:**\n",
    " * *http://adilmoujahid.com/posts/2014/07/twitter-analytics/*\n",
    " * *https://marcobonzanini.com/2015/03/02/mining-twitter-data-with-python-part-1/*\n",
    " * *http://docs.tweepy.org/en/v3.5.0/index.html*"
   ]
  },
  {
   "cell_type": "code",
   "execution_count": 2,
   "metadata": {
    "collapsed": false
   },
   "outputs": [],
   "source": [
    "from tweepy import Stream\n",
    "from tweepy import OAuthHandler\n",
    "from tweepy import StreamListener\n",
    "import time\n",
    "import configAakash"
   ]
  },
  {
   "cell_type": "code",
   "execution_count": 3,
   "metadata": {
    "collapsed": false
   },
   "outputs": [],
   "source": [
    "#from twitter api , consumer key, consumer secret, access token, access secret. \n",
    "\n",
    "ckey=configAakash.ckey\n",
    "csecret=configAakash.csecret\n",
    "atoken=configAakash.atoken\n",
    "asecret=configAakash.asecret"
   ]
  },
  {
   "cell_type": "markdown",
   "metadata": {},
   "source": [
    " #### useful links:\n",
    " \n",
    " >* how authentication works: *http://docs.tweepy.org/en/v3.5.0/auth_tutorial.html#auth-tutorial*  \n",
    " * callback url(for later stages)  :   *https://www.alertra.com/blog/2011/callback-urls-explained , https://stackoverflow.com/questions/23347056/what-is-a-callback-url-in-relation-to-an-api*"
   ]
  },
  {
   "cell_type": "code",
   "execution_count": 16,
   "metadata": {
    "collapsed": false
   },
   "outputs": [],
   "source": [
    "auth=tweepy.OAuthHandler(ckey,csecret)\n",
    "auth.set_access_token(atoken,asecret)\n",
    "api=tweepy.API(auth)"
   ]
  },
  {
   "cell_type": "code",
   "execution_count": 17,
   "metadata": {
    "collapsed": false
   },
   "outputs": [
    {
     "name": "stdout",
     "output_type": "stream",
     "text": [
      "1.Taken stock of preparation of Page Pramukh Vijay vishwas Sammelan for Saurashtra Region https://t.co/YCB3lkebDs\n",
      "2.RT @AmitShahOffice: Schedule of public programs of BJP National President Shri @AmitShah in Gujarat. https://t.co/F1XgrMgesY\n",
      "3.@abhish1995 this is aakash... project k liye account banaya hai.\n",
      "4.A hidden gem among past Champions Trophy performers - Daniel Vettori! Read about his #CT exploits here: https://t.co/6B30aAnmh1 #PlayBold\n",
      "5.RT @bhikhubhaidbjp: 💐 दलित-पिडित ,पिछड़े वर्ग के नेता बिहार के राज्यपाल महोदय श्री रामनाथजी कोविंद को BJP-NDA  उमिदवार को बधाई -अभिनंदन 💐🙏🏻…\n"
     ]
    }
   ],
   "source": [
    "public_tweets=api.home_timeline(count=5)\n",
    "a=1;\n",
    "for tweet in public_tweets:\n",
    "    print (str(a) +\".\" + tweet.text)\n",
    "    a=a+1"
   ]
  },
  {
   "cell_type": "code",
   "execution_count": 22,
   "metadata": {
    "collapsed": false
   },
   "outputs": [
    {
     "name": "stdout",
     "output_type": "stream",
     "text": [
      "SCREEN NAME:Abhishek101\n",
      "Followers count:4\n",
      "following:0\n"
     ]
    }
   ],
   "source": [
    "#get user object for twitter \n",
    "user=api.get_user('abhishek101')\n",
    "print(\"SCREEN NAME:\"+user.screen_name)\n",
    "print(\"Followers count:\"+ str(user.followers_count))\n",
    "print(\"following:\"+str(user.friends_count))\n",
    "fcount=1\n",
    "for fr in user.friends():\n",
    "    print(str(fcount)+\". \"+fr.screen_name+\" followers: \"+str(fr.followers_count/fr.friends_count))\n",
    "    fcount+=1\n"
   ]
  },
  {
   "cell_type": "code",
   "execution_count": 19,
   "metadata": {
    "collapsed": false
   },
   "outputs": [],
   "source": [
    "#Most popular friends(most followers/following ratio)\n",
    "def most_popular(user_id):\n",
    "    user=api.get_user(user_id)\n",
    "    ratio=0\n",
    "    u1=\"\"\n",
    "    uc=0\n",
    "    uc2=0\n",
    "    for fr in user.friends():\n",
    "        val=fr.followers_count/fr.friends_count\n",
    "        if(ratio-val>0.0000001):\n",
    "            u1=fr.screen_name\n",
    "            uc=fr.followers_count\n",
    "            uc2=fr.friends_count\n",
    "            ratio=val\n",
    "\n",
    "    print(\"the most famous friend is \"+ u1+\" with \"+str(uc)+ \" folowers and \"+str(uc2)+\" friends.\")\n",
    "    "
   ]
  },
  {
   "cell_type": "markdown",
   "metadata": {},
   "source": [
    "### cursor object for pagination\n",
    "http://docs.tweepy.readthedocs.io/en/v3.5.0/cursor_tutorial.html\n",
    "\n"
   ]
  },
  {
   "cell_type": "code",
   "execution_count": 23,
   "metadata": {
    "collapsed": false
   },
   "outputs": [
    {
     "name": "stdout",
     "output_type": "stream",
     "text": [
      "1. @abhish1995 this is aakash... project k liye account banaya hai.\n"
     ]
    }
   ],
   "source": [
    "count=1\n",
    "for status in tweepy.Cursor(api.user_timeline).items():\n",
    "    print(str(count)+\". \"+status.text)"
   ]
  },
  {
   "cell_type": "code",
   "execution_count": null,
   "metadata": {
    "collapsed": false
   },
   "outputs": [],
   "source": [
    "\n",
    "\n",
    "\n"
   ]
  }
 ],
 "metadata": {
  "anaconda-cloud": {},
  "celltoolbar": "Edit Metadata",
  "kernelspec": {
   "display_name": "Python [Root]",
   "language": "python",
   "name": "Python [Root]"
  },
  "language_info": {
   "codemirror_mode": {
    "name": "ipython",
    "version": 3
   },
   "file_extension": ".py",
   "mimetype": "text/x-python",
   "name": "python",
   "nbconvert_exporter": "python",
   "pygments_lexer": "ipython3",
   "version": "3.5.2"
  }
 },
 "nbformat": 4,
 "nbformat_minor": 0
}
