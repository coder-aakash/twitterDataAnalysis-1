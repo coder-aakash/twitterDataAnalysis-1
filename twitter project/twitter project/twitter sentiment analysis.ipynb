{
 "cells": [
  {
   "cell_type": "code",
   "execution_count": 1,
   "metadata": {
    "collapsed": true
   },
   "outputs": [],
   "source": [
    "#Import the necessary methods from tweepy library\n",
    "from tweepy.streaming import StreamListener\n",
    "from tweepy import OAuthHandler\n",
    "from tweepy import Stream"
   ]
  },
  {
   "cell_type": "code",
   "execution_count": null,
   "metadata": {
    "collapsed": true
   },
   "outputs": [],
   "source": [
    "#Variables that contains the user credentials to access Twitter API \n",
    "access_token = '777111325126356992-dKXQzw2VnawsYax6XdlaTn2U1AD1QUa'\n",
    "access_token_secret = 'H6QYc71i1QwvL6Ix83PWk1gAf2fVMD3kV6GSk7gIEpmCc'\n",
    "consumer_key = 'GPyE7BV7mNeWDeL4azCZ5tQ0c'\n",
    "consumer_secret = 'KhUqAOEgMQ8w1nCLiuGOpqmr5fJxdezT2LN6zhipGkq5GeXAIf'"
   ]
  },
  {
   "cell_type": "code",
   "execution_count": null,
   "metadata": {
    "collapsed": true
   },
   "outputs": [],
   "source": []
  }
 ],
 "metadata": {
  "kernelspec": {
   "display_name": "Python [Root]",
   "language": "python",
   "name": "Python [Root]"
  },
  "language_info": {
   "codemirror_mode": {
    "name": "ipython",
    "version": 3
   },
   "file_extension": ".py",
   "mimetype": "text/x-python",
   "name": "python",
   "nbconvert_exporter": "python",
   "pygments_lexer": "ipython3",
   "version": "3.5.2"
  }
 },
 "nbformat": 4,
 "nbformat_minor": 0
}
